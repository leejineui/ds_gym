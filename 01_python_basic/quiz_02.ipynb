{
 "cells": [
  {
   "cell_type": "markdown",
   "metadata": {
    "capter": 5,
    "cell_hash": "1709ff36c7a14f93ab28dce55f0c9566",
    "q_num": 3,
    "section_id": 2,
    "tags": [
     "q"
    ]
   },
   "source": [
    "#### Q2-1\n",
    "다수의 이름(key)과 나이(value)가 dictionary 형태로 저장되어 있고 임의의 나이를 입력했을때 동일한 나이의 이름이 출력되도록 하시오"
   ]
  },
  {
   "cell_type": "code",
   "execution_count": 1,
   "metadata": {},
   "outputs": [
    {
     "name": "stdin",
     "output_type": "stream",
     "text": [
      "How many information of people do you want to input:  5\n",
      "1: Please input the information (name age):  suzy 25\n",
      "2: Please input the information (name age):  tom 25\n",
      "3: Please input the information (name age):  jake 26\n",
      "4: Please input the information (name age):  van 33\n",
      "5: Please input the information (name age):  aaron 21\n",
      "Input the age that you want to find who have:  25\n"
     ]
    },
    {
     "name": "stdout",
     "output_type": "stream",
     "text": [
      "suzy 25\n",
      "tom 25\n"
     ]
    }
   ],
   "source": [
    "def input_name_age(repeat):\n",
    "    \"\"\"\n",
    "    Parameters\n",
    "    ----------\n",
    "    repeat: int\n",
    "        input repeat number for information of people\n",
    "    \"\"\"\n",
    "    name_age = dict()\n",
    "    for i in range(repeat):\n",
    "        name, age= input(str(i+1)+\": Please input the information (name age): \").split()\n",
    "        name_age[name] = int(age)\n",
    "    return name_age\n",
    "\n",
    "def check_age(check_data, is_same_age):\n",
    "    \"\"\"\n",
    "    Parameters\n",
    "    ----------\n",
    "    check_data: dict\n",
    "        what is inputed information that is name and age \n",
    "    is_same_age: int\n",
    "        to find information who is same age\n",
    "    \"\"\"\n",
    "    for k, v in check_data.items():\n",
    "        if is_same_age == v:\n",
    "            print(k, v)\n",
    "\n",
    "check_data = input_name_age(int(input(\"How many information of people do you want to input: \")))\n",
    "is_same_age = int(input(\"Input the age that you want to find who have: \"))\n",
    "check_age(check_data, is_same_age)"
   ]
  },
  {
   "cell_type": "markdown",
   "metadata": {
    "capter": 5,
    "cell_hash": "1709ff36c7a14f93ab28dce55f0c9566",
    "q_num": 3,
    "section_id": 2,
    "tags": [
     "q"
    ]
   },
   "source": [
    "#### Q2-2\n",
    "filter함수를 사용하여, 문자열을 요소로 갖고있는 리스트 li에 문자열 text가 포함되어있는 요소만 추출하는 함수를 작성해주세요"
   ]
  },
  {
   "cell_type": "code",
   "execution_count": 2,
   "metadata": {},
   "outputs": [
    {
     "data": {
      "text/plain": [
       "['abc', 'acd']"
      ]
     },
     "execution_count": 2,
     "metadata": {},
     "output_type": "execute_result"
    }
   ],
   "source": [
    "def text_filter(li, text):\n",
    "    \"\"\"\n",
    "    Parameters\n",
    "    ----------\n",
    "    li: list\n",
    "    text: string\n",
    "    \"\"\"\n",
    "    return list(filter(lambda x: text in x, li))\n",
    "\n",
    "text_filter([\"abc\", \"bcd\", \"def\", \"acd\"], \"a\")"
   ]
  },
  {
   "cell_type": "markdown",
   "metadata": {
    "capter": 5,
    "cell_hash": "1709ff36c7a14f93ab28dce55f0c9566",
    "q_num": 3,
    "section_id": 2,
    "tags": [
     "q"
    ]
   },
   "source": [
    "#### Q2 - 3\n",
    "{장}번호 - {절}번호를 자동으로 생성하는 프로그램을 작성하시오\n",
    "예: 'generate_chapter_section'에 '[2, 3]'을 넣은 경우\n",
    "\n",
    "```python\n",
    ">>> for cs in generate_chapter_section([2, 3]):\n",
    ">>>    print(cs)\n",
    "1-1\n",
    "1-2\n",
    "2-1\n",
    "2-2\n",
    "2-3\n",
    "```"
   ]
  },
  {
   "cell_type": "code",
   "execution_count": 3,
   "metadata": {
    "ExecuteTime": {
     "end_time": "2019-05-31T03:54:04.197304Z",
     "start_time": "2019-05-31T03:54:04.192319Z"
    },
    "capter": 5,
    "cell_hash": "2209f21c0f6a46ebb54d2124c6730839",
    "q_num": 3,
    "section_id": 2,
    "tags": [
     "ya"
    ]
   },
   "outputs": [],
   "source": [
    "def generate_chapter():\n",
    "    \"\"\"\n",
    "    Parameters\n",
    "    ----------\n",
    "    None\n",
    "    \n",
    "    Yields\n",
    "    ----------\n",
    "    int\n",
    "        create a chapter number\n",
    "    \"\"\"\n",
    "    n = 1\n",
    "    while True:\n",
    "        yield n\n",
    "        n += 1\n",
    "        \n",
    "def generate_chapter_section(sections):\n",
    "    \"\"\"\n",
    "    Parameters\n",
    "    ----------\n",
    "    list\n",
    "        the number of sections in each chapter\n",
    "        the number of list's elements will be a number of chapters\n",
    "    Yields\n",
    "    ----------\n",
    "    str\n",
    "        \"{chatper}-{section}\"\n",
    "    \"\"\"\n",
    "    chapter = generate_chapter()\n",
    "    for section in sections:\n",
    "        c = next(chapter)\n",
    "        for s in range(1, section + 1):\n",
    "            yield f\"{c}-{s}\"\n",
    "            \n",
    "assert [cs for cs in generate_chapter_section([2, 3])] == [\n",
    "    \"1-1\",\n",
    "    \"1-2\",\n",
    "    \"2-1\",\n",
    "    \"2-2\",\n",
    "    \"2-3\",\n",
    "]"
   ]
  },
  {
   "cell_type": "code",
   "execution_count": 4,
   "metadata": {},
   "outputs": [
    {
     "name": "stdout",
     "output_type": "stream",
     "text": [
      "1-1\n",
      "1-2\n",
      "1-3\n",
      "1-4\n"
     ]
    }
   ],
   "source": [
    "for cs in generate_chapter_section([4]):\n",
    "    print(cs)"
   ]
  },
  {
   "cell_type": "code",
   "execution_count": 5,
   "metadata": {},
   "outputs": [
    {
     "name": "stdout",
     "output_type": "stream",
     "text": [
      "1-1\n",
      "1-2\n",
      "1-3\n",
      "1-4\n",
      "2-1\n"
     ]
    }
   ],
   "source": [
    "for cs in generate_chapter_section([4, 1]):\n",
    "    print(cs)"
   ]
  },
  {
   "cell_type": "code",
   "execution_count": 6,
   "metadata": {},
   "outputs": [
    {
     "name": "stdout",
     "output_type": "stream",
     "text": [
      "1-1\n",
      "1-2\n",
      "1-3\n",
      "1-4\n",
      "2-1\n",
      "3-1\n",
      "3-2\n"
     ]
    }
   ],
   "source": [
    "for cs in generate_chapter_section([4, 1, 2]):\n",
    "    print(cs)"
   ]
  },
  {
   "cell_type": "code",
   "execution_count": 7,
   "metadata": {},
   "outputs": [
    {
     "name": "stdout",
     "output_type": "stream",
     "text": [
      "1-1\n",
      "1-2\n",
      "1-3\n",
      "1-4\n",
      "2-1\n",
      "3-1\n",
      "3-2\n",
      "4-1\n",
      "4-2\n",
      "4-3\n",
      "4-4\n",
      "4-5\n"
     ]
    }
   ],
   "source": [
    "for cs in generate_chapter_section([4, 1, 2, 5]):\n",
    "    print(cs)"
   ]
  },
  {
   "cell_type": "markdown",
   "metadata": {},
   "source": [
    "<center> Copyright © 20210518 \"made by these members: 강정현, 최한승, Jaekwang Van\"</center>"
   ]
  }
 ],
 "metadata": {
  "kernelspec": {
   "display_name": "Python 3",
   "language": "python",
   "name": "python3"
  },
  "language_info": {
   "codemirror_mode": {
    "name": "ipython",
    "version": 3
   },
   "file_extension": ".py",
   "mimetype": "text/x-python",
   "name": "python",
   "nbconvert_exporter": "python",
   "pygments_lexer": "ipython3",
   "version": "3.8.5"
  }
 },
 "nbformat": 4,
 "nbformat_minor": 4
}
