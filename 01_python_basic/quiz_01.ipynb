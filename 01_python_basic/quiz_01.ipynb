{
 "cells": [
  {
   "cell_type": "markdown",
   "metadata": {},
   "source": [
    "# 1\n",
    "\n",
    "새로 오픈한 가게에서 오픈 이벤트를 진행한다.\n",
    "\n",
    "방문한 손님 순서대로 10의 배수번째마다 마우스를, 100의 배수번째마다 모니터를 증정한다.\n",
    "\n",
    "이벤트가 항목이 중복될 경우 모니터만 제공한다.\n",
    "\n",
    "모니터 수 : 5, 마우스 수 : 50 이고 소진된 항목은 더이상 증정하지 않으며 모두 소진 시 이벤트는 종료된다.\n",
    "\n",
    "초기 방문자 수를 입력받는다.\n",
    "\n",
    "출력으로는 이벤트에 해당되는 방문자 순서와 제공받는 물품의 항목이 되도록 하라."
   ]
  },
  {
   "cell_type": "code",
   "execution_count": 12,
   "metadata": {},
   "outputs": [
    {
     "name": "stdout",
     "output_type": "stream",
     "text": [
      "방문자 수를 입력해주세요 :1000\n",
      "10 번째 손님 마우스 당첨입니다.\n",
      "20 번째 손님 마우스 당첨입니다.\n",
      "30 번째 손님 마우스 당첨입니다.\n",
      "40 번째 손님 마우스 당첨입니다.\n",
      "50 번째 손님 마우스 당첨입니다.\n",
      "60 번째 손님 마우스 당첨입니다.\n",
      "70 번째 손님 마우스 당첨입니다.\n",
      "80 번째 손님 마우스 당첨입니다.\n",
      "90 번째 손님 마우스 당첨입니다.\n",
      "100 번째 손님 모니터 당첨입니다.\n",
      "110 번째 손님 마우스 당첨입니다.\n",
      "120 번째 손님 마우스 당첨입니다.\n",
      "130 번째 손님 마우스 당첨입니다.\n",
      "140 번째 손님 마우스 당첨입니다.\n",
      "150 번째 손님 마우스 당첨입니다.\n",
      "160 번째 손님 마우스 당첨입니다.\n",
      "170 번째 손님 마우스 당첨입니다.\n",
      "180 번째 손님 마우스 당첨입니다.\n",
      "190 번째 손님 마우스 당첨입니다.\n",
      "200 번째 손님 모니터 당첨입니다.\n",
      "210 번째 손님 마우스 당첨입니다.\n",
      "220 번째 손님 마우스 당첨입니다.\n",
      "230 번째 손님 마우스 당첨입니다.\n",
      "240 번째 손님 마우스 당첨입니다.\n",
      "250 번째 손님 마우스 당첨입니다.\n",
      "260 번째 손님 마우스 당첨입니다.\n",
      "270 번째 손님 마우스 당첨입니다.\n",
      "280 번째 손님 마우스 당첨입니다.\n",
      "290 번째 손님 마우스 당첨입니다.\n",
      "300 번째 손님 마우스 당첨입니다.\n",
      "310 번째 손님 마우스 당첨입니다.\n",
      "320 번째 손님 마우스 당첨입니다.\n",
      "330 번째 손님 마우스 당첨입니다.\n",
      "340 번째 손님 마우스 당첨입니다.\n",
      "350 번째 손님 마우스 당첨입니다.\n",
      "360 번째 손님 마우스 당첨입니다.\n",
      "370 번째 손님 마우스 당첨입니다.\n",
      "380 번째 손님 마우스 당첨입니다.\n",
      "390 번째 손님 마우스 당첨입니다.\n",
      "400 번째 손님 마우스 당첨입니다.\n",
      "410 번째 손님 마우스 당첨입니다.\n",
      "420 번째 손님 마우스 당첨입니다.\n",
      "430 번째 손님 마우스 당첨입니다.\n",
      "440 번째 손님 마우스 당첨입니다.\n",
      "450 번째 손님 마우스 당첨입니다.\n",
      "460 번째 손님 마우스 당첨입니다.\n",
      "470 번째 손님 마우스 당첨입니다.\n",
      "480 번째 손님 마우스 당첨입니다.\n",
      "490 번째 손님 마우스 당첨입니다.\n",
      "500 번째 손님 마우스 당첨입니다.\n",
      "510 번째 손님 마우스 당첨입니다.\n",
      "520 번째 손님 마우스 당첨입니다.\n"
     ]
    }
   ],
   "source": [
    "def event():\n",
    "    \n",
    "    mouse = 50\n",
    "    monitor = 2\n",
    "\n",
    "    cus_num = int(input(\"방문자 수를 입력해주세요 :\"))\n",
    "    \n",
    "    for visit in range(1, cus_num+1):\n",
    "        if mouse == 0 and monitor == 0:\n",
    "            break\n",
    "    \n",
    "        if visit%10 == 0:\n",
    "            if visit%100 == 0:\n",
    "                if monitor == 0:\n",
    "                    if mouse > 0 :\n",
    "                        mouse -= 1\n",
    "                        print(visit, \"번째 손님 마우스 당첨입니다.\")\n",
    "                    else :\n",
    "                        break\n",
    "                else :        \n",
    "                    monitor -= 1\n",
    "                    print(visit, \"번째 손님 모니터 당첨입니다.\")\n",
    "            else:\n",
    "                if mouse == 0:\n",
    "                    continue\n",
    "                else :\n",
    "                    mouse -= 1\n",
    "                    print(visit, \"번째 손님 마우스 당첨입니다.\")\n",
    "\n",
    "                    \n",
    "event()"
   ]
  },
  {
   "cell_type": "markdown",
   "metadata": {},
   "source": [
    "# 2\n",
    "중간고사를 실시해서 커트라인 점수 이상이면 advanced , 이하이면 basic 반으로 배정된다.\n",
    "\n",
    "커트라인은 70점이다.\n",
    "\n",
    "초기 학생 수와 그에 따른 성적을 입력받는다.\n",
    "\n",
    "출력으로 adv, basic 반의 인원수가 되도록 하라."
   ]
  },
  {
   "cell_type": "code",
   "execution_count": 2,
   "metadata": {},
   "outputs": [
    {
     "name": "stdin",
     "output_type": "stream",
     "text": [
      "학생 수를 입력해주세요 :  5\n",
      " 1 2 3 4 5\n"
     ]
    },
    {
     "name": "stdout",
     "output_type": "stream",
     "text": [
      "advance반의 학생 수는 0\n",
      "basic반의 학생 수는 5\n"
     ]
    }
   ],
   "source": [
    "def midterm():\n",
    "    \n",
    "    cutline = 70\n",
    "    adv_num = 0\n",
    "    basic_num = 0\n",
    "\n",
    "    student_num = int(input(\"학생 수를 입력해주세요 : \"))\n",
    "    score = list(map(int, input().split()))\n",
    "    \n",
    "    for i in range(0, student_num):\n",
    "        if score[i] >= cutline:\n",
    "            adv_num += 1\n",
    "        else:\n",
    "            basic_num += 1\n",
    "    \n",
    "    print(\"advance반의 학생 수는\", adv_num)\n",
    "    print(\"basic반의 학생 수는\", basic_num)\n",
    "    \n",
    "    \n",
    "midterm()"
   ]
  },
  {
   "cell_type": "markdown",
   "metadata": {},
   "source": [
    "# 1\n",
    "\n",
    "반복문을 사용하여 임의의 값을 받아(2~9단) 구구단을 출력하는 프로그램을 작성하시오"
   ]
  },
  {
   "cell_type": "code",
   "execution_count": null,
   "metadata": {},
   "outputs": [],
   "source": [
    "def team_dove() :\n",
    "    \n",
    "    value = int(input())\n",
    "\n",
    "    for i in range(1, 10) : \n",
    "        print(value, 'x', i, '=',value * i)\n",
    "\n",
    "        \n",
    "team_dove()"
   ]
  },
  {
   "cell_type": "markdown",
   "metadata": {},
   "source": [
    "# 2\n",
    "\n",
    "임의의 숫자의 범위를 정하고 (예: 0~100) 반복문을 사용하여 범위 내의 소수를 출력하는 프로그램을 작성하시오\n"
   ]
  },
  {
   "cell_type": "code",
   "execution_count": 7,
   "metadata": {},
   "outputs": [
    {
     "name": "stdin",
     "output_type": "stream",
     "text": [
      " 71\n"
     ]
    },
    {
     "name": "stdout",
     "output_type": "stream",
     "text": [
      "71 "
     ]
    }
   ],
   "source": [
    "def prime_num() : \n",
    "    \n",
    "    value = int(input())\n",
    "\n",
    "    for i in range(1, value + 1) :\n",
    "        cnt = 0\n",
    "\n",
    "    for j in range(1, i + 1) :\n",
    "        if i % j == 0 :\n",
    "            cnt += 1\n",
    "    \n",
    "    if cnt == 2 :\n",
    "        print(i, end = ' ')\n",
    "\n",
    "        \n",
    "prime_num()"
   ]
  },
  {
   "cell_type": "code",
   "execution_count": null,
   "metadata": {},
   "outputs": [],
   "source": []
  },
  {
   "cell_type": "markdown",
   "metadata": {
    "capter": 5,
    "cell_hash": "1709ff36c7a14f93ab28dce55f0c9566",
    "q_num": 3,
    "section_id": 2,
    "tags": [
     "q"
    ]
   },
   "source": [
    "#### Q:4\n",
    "{장}번호 - {절}번호를 자동으로 생성하는 프로그램을 작성하시오\n",
    "예: 'generate_chapter_section'에 '[2, 3]'을 넣은 경우\n",
    "\n",
    "```python\n",
    ">>> for cs in generate_chapter_section([2, 3]):\n",
    ">>>    print(cs)\n",
    "1-1\n",
    "1-2\n",
    "2-1\n",
    "2-2\n",
    "2-3\n",
    "```"
   ]
  },
  {
   "cell_type": "code",
   "execution_count": 1,
   "metadata": {
    "ExecuteTime": {
     "end_time": "2019-05-31T03:54:04.197304Z",
     "start_time": "2019-05-31T03:54:04.192319Z"
    },
    "capter": 5,
    "cell_hash": "2209f21c0f6a46ebb54d2124c6730839",
    "q_num": 3,
    "section_id": 2,
    "tags": [
     "ya"
    ]
   },
   "outputs": [],
   "source": [
    "def generate_chapter():\n",
    "    \"\"\"\n",
    "    Parameters\n",
    "    ----------\n",
    "    None\n",
    "    \n",
    "    Yields\n",
    "    ----------\n",
    "    int\n",
    "        장 번호를 생성\n",
    "    \"\"\"\n",
    "    n = 1\n",
    "    while True:\n",
    "        yield n\n",
    "        n += 1\n",
    "\n",
    "def generate_chapter_section(sections):\n",
    "    \"\"\"\n",
    "    Parameters\n",
    "    ----------\n",
    "    list\n",
    "        절 개수가 들어가는 리스트\n",
    "    \n",
    "    Yields\n",
    "    ----------\n",
    "    str\n",
    "        \"{장}-{절}\"\n",
    "    \"\"\"\n",
    "    chapter = generate_chapter()\n",
    "    for section in sections:\n",
    "        c = next(chapter)\n",
    "        for s in range(1, section + 1):\n",
    "            yield f\"{c}-{s}\"\n",
    "            \n",
    "assert [cs for cs in generate_chapter_section([2, 3])] == [\n",
    "    \"1-1\",\n",
    "    \"1-2\",\n",
    "    \"2-1\",\n",
    "    \"2-2\",\n",
    "    \"2-3\",\n",
    "]"
   ]
  },
  {
   "cell_type": "code",
   "execution_count": null,
   "metadata": {},
   "outputs": [],
   "source": []
  }
 ],
 "metadata": {
  "kernelspec": {
   "display_name": "Python 3",
   "language": "python",
   "name": "python3"
  },
  "language_info": {
   "codemirror_mode": {
    "name": "ipython",
    "version": 3
   },
   "file_extension": ".py",
   "mimetype": "text/x-python",
   "name": "python",
   "nbconvert_exporter": "python",
   "pygments_lexer": "ipython3",
   "version": "3.8.5"
  }
 },
 "nbformat": 4,
 "nbformat_minor": 4
}
