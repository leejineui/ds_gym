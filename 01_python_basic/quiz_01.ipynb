{
 "cells": [
  {
   "cell_type": "markdown",
   "metadata": {},
   "source": [
    "### Q1-1\n",
    "반복문을 사용하여 임의의 값을 받아(2~9단) 구구단을 출력하는 프로그램을 작성하시오"
   ]
  },
  {
   "cell_type": "code",
   "execution_count": 2,
   "metadata": {},
   "outputs": [
    {
     "name": "stdin",
     "output_type": "stream",
     "text": [
      "출력할 구구단의 단수를 입력하시오(2~9단):  6\n"
     ]
    },
    {
     "name": "stdout",
     "output_type": "stream",
     "text": [
      "6×1=6\n",
      "6×2=12\n",
      "6×3=18\n",
      "6×4=24\n",
      "6×5=30\n",
      "6×6=36\n",
      "6×7=42\n",
      "6×8=48\n",
      "6×9=54\n"
     ]
    }
   ],
   "source": [
    "def multi_table(n):\n",
    "    if (n>1) & (n<10):\n",
    "        for i in range(1, 10):\n",
    "            print(str(n) + \"×\" + str(i) + \"=\" + str(n * i))\n",
    "    else:\n",
    "        print(\"올바른 숫자가 아닙니다\")\n",
    "\n",
    "n = int(input(\"출력할 구구단의 단수를 입력하시오(2~9단): \"))\n",
    "multi_table(n)"
   ]
  },
  {
   "cell_type": "markdown",
   "metadata": {},
   "source": [
    "### Q1-2\n",
    "임의의 숫자의 범위를 정하고 (예: 0~100) 반복문을 사용하여 범위 내의 소수(素数)를 출력하는 프로그램을 작성하시오\n",
    "\n",
    "※ 소수(素数): 1과 자기 자신만으로 나누어 떨어지는 정수"
   ]
  },
  {
   "cell_type": "code",
   "execution_count": 3,
   "metadata": {},
   "outputs": [
    {
     "name": "stdin",
     "output_type": "stream",
     "text": [
      "2이상의 자연수를 입력하시오(시작):  3\n",
      "2이상의 자연수를 입력하시오(종료):  33\n"
     ]
    },
    {
     "name": "stdout",
     "output_type": "stream",
     "text": [
      "3\n",
      "5\n",
      "7\n",
      "11\n",
      "13\n",
      "17\n",
      "19\n",
      "23\n",
      "29\n",
      "31\n"
     ]
    }
   ],
   "source": [
    "def prime_number(a, n):\n",
    "    for i in range(a, n+1):\n",
    "        for j in range(2, i+1):\n",
    "            if j == i:\n",
    "                print(j)\n",
    "            elif i%j == 0:\n",
    "                break\n",
    "a = int(input(\"2이상의 자연수를 입력하시오(시작): \"))\n",
    "n = int(input(\"2이상의 자연수를 입력하시오(종료): \"))\n",
    "prime_number(a, n)"
   ]
  },
  {
   "cell_type": "code",
   "execution_count": 4,
   "metadata": {},
   "outputs": [
    {
     "name": "stdin",
     "output_type": "stream",
     "text": [
      "1이상의 자연수를 입력하시오:  57\n"
     ]
    },
    {
     "name": "stdout",
     "output_type": "stream",
     "text": [
      "소수가 아닙니다\n"
     ]
    }
   ],
   "source": [
    "def prime_number(n):\n",
    "    # 1과 2인 경우는 소수로 처리\n",
    "    if n == 1 or n == 2:\n",
    "        print(\"소수입니다\")\n",
    "    # 1보다 작은 0 또는 음수는 올바르지 않은 값으로 처리\n",
    "    elif n < 1:\n",
    "        print(\"입력한 값이 올바르지 않습니다\")\n",
    "    # 3 이상의 자연수 중 소수를 확인\n",
    "    else:\n",
    "        for i in range(2, n+1):\n",
    "            if i == n:\n",
    "                print(\"소수입니다\")\n",
    "            elif n%i == 0:\n",
    "                print(\"소수가 아닙니다\")\n",
    "                break\n",
    "\n",
    "n = int(input(\"1이상의 자연수를 입력하시오: \"))\n",
    "prime_number(n)"
   ]
  },
  {
   "cell_type": "markdown",
   "metadata": {},
   "source": [
    "<center> Copyright © 20210518 \"made by these members: 박철희, 장수정, Jaekwang Van\"</center>"
   ]
  }
 ],
 "metadata": {
  "kernelspec": {
   "display_name": "Python 3",
   "language": "python",
   "name": "python3"
  },
  "language_info": {
   "codemirror_mode": {
    "name": "ipython",
    "version": 3
   },
   "file_extension": ".py",
   "mimetype": "text/x-python",
   "name": "python",
   "nbconvert_exporter": "python",
   "pygments_lexer": "ipython3",
   "version": "3.8.5"
  }
 },
 "nbformat": 4,
 "nbformat_minor": 4
}
